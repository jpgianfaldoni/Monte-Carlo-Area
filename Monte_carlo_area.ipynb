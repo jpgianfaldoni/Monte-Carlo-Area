{
 "cells": [
  {
   "cell_type": "code",
   "execution_count": 238,
   "metadata": {},
   "outputs": [],
   "source": [
    "import numpy as np\n",
    "import cv2\n",
    "from matplotlib import pyplot as plt\n",
    "import random"
   ]
  },
  {
   "cell_type": "code",
   "execution_count": 239,
   "metadata": {},
   "outputs": [],
   "source": [
    "img = cv2.imread('hypo.png', 0)\n",
    "img_colorida = cv2.imread('hypo.png')\n",
    "global height\n",
    "global width\n",
    "height, width = img.shape[:2]\n",
    "(thresh, blackAndWhiteImage) = cv2.threshold(img, 127, 255, cv2.THRESH_BINARY)"
   ]
  },
  {
   "cell_type": "code",
   "execution_count": 240,
   "metadata": {},
   "outputs": [
    {
     "data": {
      "text/plain": [
       "True"
      ]
     },
     "execution_count": 240,
     "metadata": {},
     "output_type": "execute_result"
    }
   ],
   "source": [
    "ponto = 100\n",
    "for i in range(575):\n",
    "    blackAndWhiteImage[random.randint(0,height-1) ,random.randint(0,width-1)]=ponto\n",
    "    \n",
    "cv2.imwrite(\"result.png\",blackAndWhiteImage)"
   ]
  },
  {
   "cell_type": "code",
   "execution_count": 241,
   "metadata": {},
   "outputs": [
    {
     "data": {
      "image/png": "[encoded data removed]",
      "text/plain": [
       "<Figure size 432x288 with 1 Axes>"
      ]
     },
     "metadata": {},
     "output_type": "display_data"
    }
   ],
   "source": [
    "(thresh, blackAndWhiteImage) = cv2.threshold(img, 127, 255, cv2.THRESH_BINARY)\n",
    "plt.imshow(blackAndWhiteImage)\n",
    "plt.xticks([]), plt.yticks([]) \n",
    "plt.show()\n"
   ]
  },
  {
   "cell_type": "code",
   "execution_count": 242,
   "metadata": {},
   "outputs": [
    {
     "data": {
      "image/png": "[encoded data removed]",
      "text/plain": [
       "<Figure size 432x288 with 1 Axes>"
      ]
     },
     "metadata": {},
     "output_type": "display_data"
    }
   ],
   "source": [
    "new_img = cv2.imread('result.png')\n",
    "plt.imshow(new_img)\n",
    "plt.xticks([]), plt.yticks([]) \n",
    "plt.show()"
   ]
  },
  {
   "cell_type": "code",
   "execution_count": 243,
   "metadata": {},
   "outputs": [
    {
     "name": "stdout",
     "output_type": "stream",
     "text": [
      "298 575\n"
     ]
    }
   ],
   "source": [
    "d = 0\n",
    "azul = 0\n",
    "for i in range(1, height-1):\n",
    "    for j in range(1, width-1):\n",
    "        dentro = False\n",
    "        dentro_cima = True\n",
    "        if np.array_equal(new_img[i,j], [100,100,100]) == True:\n",
    "            ponto = (i,j)\n",
    "            azul +=1\n",
    "            dentro = baixo(ponto, i, j,dentro)\n",
    "            dentro_cima = cima(ponto, i, j,dentro, dentro_cima)\n",
    "            d = lado(ponto, i, j,dentro_cima,d)\n",
    "            \n",
    "\n",
    "                        \n",
    "cv2.imwrite(\"result2.png\",img_colorida)\n",
    "                    \n",
    "print(d, azul)\n",
    "\n",
    "            \n",
    "        "
   ]
  },
  {
   "cell_type": "code",
   "execution_count": 233,
   "metadata": {},
   "outputs": [],
   "source": [
    "def baixo(ponto, i, j,dentro):\n",
    "    for k in range(i, height-1):   \n",
    "        if dentro == False:\n",
    "            if np.array_equal(new_img[k,j], [100,100,100]) or np.array_equal(new_img[k,j], [255,255,255]):\n",
    "                img_colorida[k,j]= [255,0,0]\n",
    "                dentro = False\n",
    "            else:\n",
    "                dentro = True          \n",
    "    return dentro\n",
    "\n",
    "def cima(ponto, i, j,dentro, dentro_cima):\n",
    "    for k in reversed(range(0, i+1)):\n",
    "        if dentro == True:\n",
    "            if np.array_equal(new_img[k,j], [100,100,100]) == True or np.array_equal(new_img[k,j], [255,255,255]) == True:\n",
    "                img_colorida[k,j]=[0,0,255]\n",
    "                dentro = True\n",
    "                dentro_cima = True\n",
    "            else:\n",
    "                dentro = False\n",
    "                dentro_cima = False\n",
    "    return dentro_cima\n",
    "\n",
    "def lado(ponto, i, j,dentro_cima,d):\n",
    "    for k in range(j, height):\n",
    "        if dentro_cima == False:\n",
    "            if np.array_equal(new_img[i,k], [100,100,100])  or np.array_equal(new_img[i,k], [255,255,255]):\n",
    "                img_colorida[i,k]=[0,150,0]\n",
    "                dentro_cima = False\n",
    "            else:\n",
    "                d +=1\n",
    "                dentro_cima = True\n",
    "    return d\n",
    "        \n",
    "    \n",
    "\n",
    "        \n",
    "    \n",
    "\n",
    "    \n",
    "    "
   ]
  },
  {
   "cell_type": "code",
   "execution_count": 204,
   "metadata": {},
   "outputs": [
    {
     "data": {
      "text/plain": [
       "array([100, 100, 100], dtype=uint8)"
      ]
     },
     "execution_count": 204,
     "metadata": {},
     "output_type": "execute_result"
    }
   ],
   "source": [
    "new_img[ponto]"
   ]
  },
  {
   "cell_type": "code",
   "execution_count": null,
   "metadata": {},
   "outputs": [],
   "source": []
  }
 ],
 "metadata": {
  "kernelspec": {
   "display_name": "Python 3",
   "language": "python",
   "name": "python3"
  },
  "language_info": {
   "codemirror_mode": {
    "name": "ipython",
    "version": 3
   },
   "file_extension": ".py",
   "mimetype": "text/x-python",
   "name": "python",
   "nbconvert_exporter": "python",
   "pygments_lexer": "ipython3",
   "version": "3.7.1"
  }
 },
 "nbformat": 4,
 "nbformat_minor": 2
}
