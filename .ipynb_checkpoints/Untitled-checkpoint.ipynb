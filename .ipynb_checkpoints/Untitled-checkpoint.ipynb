{
 "cells": [
  {
   "cell_type": "code",
   "execution_count": 281,
   "metadata": {},
   "outputs": [],
   "source": [
    "import numpy as np\n",
    "import cv2\n",
    "from matplotlib import pyplot as plt\n",
    "import random"
   ]
  },
  {
   "cell_type": "code",
   "execution_count": 282,
   "metadata": {},
   "outputs": [],
   "source": [
    "img = cv2.imread('hypo.png', 0)\n",
    "height, width = img.shape[:2]\n",
    "(thresh, blackAndWhiteImage) = cv2.threshold(img, 127, 255, cv2.THRESH_BINARY)"
   ]
  },
  {
   "cell_type": "code",
   "execution_count": 283,
   "metadata": {},
   "outputs": [
    {
     "data": {
      "text/plain": [
       "True"
      ]
     },
     "execution_count": 283,
     "metadata": {},
     "output_type": "execute_result"
    }
   ],
   "source": [
    "ponto = 100\n",
    "for i in range(200):\n",
    "    blackAndWhiteImage[random.randint(0,height-1) ,random.randint(0,width-1)]=ponto\n",
    "    \n",
    "cv2.imwrite(\"result.png\",blackAndWhiteImage)"
   ]
  },
  {
   "cell_type": "code",
   "execution_count": 284,
   "metadata": {},
   "outputs": [
    {
     "data": {
      "image/png": "[encoded data removed]",
      "text/plain": [
       "<Figure size 432x288 with 1 Axes>"
      ]
     },
     "metadata": {},
     "output_type": "display_data"
    }
   ],
   "source": [
    "(thresh, blackAndWhiteImage) = cv2.threshold(img, 127, 255, cv2.THRESH_BINARY)\n",
    "plt.imshow(blackAndWhiteImage)\n",
    "plt.xticks([]), plt.yticks([]) \n",
    "plt.show()\n"
   ]
  },
  {
   "cell_type": "code",
   "execution_count": 285,
   "metadata": {},
   "outputs": [
    {
     "data": {
      "image/png": "[encoded data removed]",
      "text/plain": [
       "<Figure size 432x288 with 1 Axes>"
      ]
     },
     "metadata": {},
     "output_type": "display_data"
    }
   ],
   "source": [
    "new_img = cv2.imread('result.png')\n",
    "plt.imshow(new_img)\n",
    "plt.xticks([]), plt.yticks([]) \n",
    "plt.show()"
   ]
  },
  {
   "cell_type": "code",
   "execution_count": 286,
   "metadata": {},
   "outputs": [
    {
     "name": "stdout",
     "output_type": "stream",
     "text": [
      "115 200\n"
     ]
    }
   ],
   "source": [
    "dentro = True\n",
    "d = 0\n",
    "fora = 0\n",
    "azul = 0\n",
    "for i in range(1, height-1):\n",
    "    for j in range(1, width-1):\n",
    "        if np.array_equal(new_img[i,j], [100,100,100]) == True:\n",
    "            azul +=1\n",
    "            if dentro == True:\n",
    "                d+=1\n",
    "            for k in range(i, height-1):   \n",
    "                if np.array_equal(new_img[k,j], [100,100,100]) == True or np.array_equal(new_img[k,j], [255,255,255]) == True:\n",
    "                    blackAndWhiteImage[k,j]=50\n",
    "                    dentro = False\n",
    "                else:\n",
    "                    dentro = True\n",
    "                    break\n",
    "            if dentro == True:\n",
    "                for k in reversed(range(1, i-1)):\n",
    "                    if np.array_equal(new_img[k,j], [100,100,100]) == True or np.array_equal(new_img[k,j], [255,255,255]) == True:\n",
    "                        blackAndWhiteImage[k,j]=150\n",
    "                        dentro = False\n",
    "                    else:\n",
    "                        dentro = True\n",
    "                        break\n",
    "                        \n",
    "cv2.imwrite(\"result2.png\",blackAndWhiteImage)\n",
    "                    \n",
    "print(d, azul)\n",
    "\n",
    "            \n",
    "        "
   ]
  },
  {
   "cell_type": "code",
   "execution_count": 287,
   "metadata": {},
   "outputs": [
    {
     "data": {
      "text/plain": [
       "array([255, 255, 255], dtype=uint8)"
      ]
     },
     "execution_count": 287,
     "metadata": {},
     "output_type": "execute_result"
    }
   ],
   "source": [
    "new_img[height-1,width-1]"
   ]
  },
  {
   "cell_type": "code",
   "execution_count": 289,
   "metadata": {},
   "outputs": [
    {
     "name": "stdout",
     "output_type": "stream",
     "text": [
      "0.575\n"
     ]
    }
   ],
   "source": [
    "print(115 /200)"
   ]
  },
  {
   "cell_type": "code",
   "execution_count": null,
   "metadata": {},
   "outputs": [],
   "source": []
  },
  {
   "cell_type": "code",
   "execution_count": null,
   "metadata": {},
   "outputs": [],
   "source": []
  }
 ],
 "metadata": {
  "kernelspec": {
   "display_name": "Python 3",
   "language": "python",
   "name": "python3"
  },
  "language_info": {
   "codemirror_mode": {
    "name": "ipython",
    "version": 3
   },
   "file_extension": ".py",
   "mimetype": "text/x-python",
   "name": "python",
   "nbconvert_exporter": "python",
   "pygments_lexer": "ipython3",
   "version": "3.7.1"
  }
 },
 "nbformat": 4,
 "nbformat_minor": 2
}
